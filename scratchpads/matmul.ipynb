{
 "cells": [
  {
   "cell_type": "code",
   "execution_count": 1,
   "metadata": {},
   "outputs": [],
   "source": [
    "import numpy as np\n",
    "import scipy as sp"
   ]
  },
  {
   "cell_type": "code",
   "execution_count": 2,
   "metadata": {},
   "outputs": [],
   "source": [
    "M = (1. / 3.) * np.array([\n",
    "    [1., 1., 1.],\n",
    "    [2., -1., -1.],\n",
    "    [-1., 2., -1.]\n",
    "])\n",
    "\n",
    "KK = np.eye(3)"
   ]
  },
  {
   "cell_type": "code",
   "execution_count": 3,
   "metadata": {},
   "outputs": [
    {
     "data": {
      "text/plain": [
       "array([[ 3.33333333e-01,  6.16790569e-18,  6.16790569e-18],\n",
       "       [ 6.16790569e-18,  6.66666667e-01, -3.33333333e-01],\n",
       "       [ 6.16790569e-18, -3.33333333e-01,  6.66666667e-01]])"
      ]
     },
     "execution_count": 3,
     "metadata": {},
     "output_type": "execute_result"
    }
   ],
   "source": [
    "M@KK@M.T"
   ]
  }
 ],
 "metadata": {
  "kernelspec": {
   "display_name": "Python 3.7.6 64-bit ('radler-local': conda)",
   "language": "python",
   "name": "python37664bitradlerlocalcondac4d2490083224f6ab78d4c3c1651fc34"
  },
  "language_info": {
   "codemirror_mode": {
    "name": "ipython",
    "version": 3
   },
   "file_extension": ".py",
   "mimetype": "text/x-python",
   "name": "python",
   "nbconvert_exporter": "python",
   "pygments_lexer": "ipython3",
   "version": "3.7.7"
  }
 },
 "nbformat": 4,
 "nbformat_minor": 4
}
